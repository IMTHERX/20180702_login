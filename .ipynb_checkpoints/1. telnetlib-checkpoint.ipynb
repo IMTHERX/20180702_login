{
 "cells": [
  {
   "cell_type": "code",
   "execution_count": 64,
   "metadata": {
    "collapsed": true
   },
   "outputs": [],
   "source": [
    "# coding:utf-8\n",
    "#导入库\n",
    "import telnetlib"
   ]
  },
  {
   "cell_type": "code",
   "execution_count": 65,
   "metadata": {},
   "outputs": [],
   "source": [
    "#定义函数，用以登录设备\n",
    "def login(hostname,username,password,port=23):\n",
    "    tn = telnetlib.Telnet(hostname,port=23,timeout=10)\n",
    "    tn.set_debuglevel(2)\n",
    "    #输入用户名\n",
    "    tn.read_until('Username:'.encode('utf-8'))\n",
    "    tn.write(username.encode('utf-8') + \"\\n\".encode('utf-8'))\n",
    "    \n",
    "    #输入登录密码\n",
    "    tn.read_until('Password:'.encode('utf-8'))\n",
    "    tn.write(password.encode('utf-8') + \"\\n\".encode('utf-8'))\n",
    "    \n",
    "    return tn"
   ]
  },
  {
   "cell_type": "markdown",
   "metadata": {},
   "source": [
    "遇到的问题：\n",
    "\n",
    "传递给Telnet方法的字符串都会被解一次码，所以如果你传递过去需要write的字符串是已经解码的unicode的话，那么就会报错的，所以在传递发送的字符串之前还是先编成utf-8为妥，用ascii编码也可以。"
   ]
  },
  {
   "cell_type": "code",
   "execution_count": 66,
   "metadata": {},
   "outputs": [
    {
     "name": "stdout",
     "output_type": "stream",
     "text": [
      "Telnet(192.168.123.22,23): recv b'\\xff\\xfb\\x01\\xff\\xfb\\x03\\xff\\xfd\\x18\\xff\\xfd\\x1f\\r\\n\\r\\nUser Access Verification\\r\\n\\r\\nUserna'\n",
      "Telnet(192.168.123.22,23): IAC WILL 1\n",
      "Telnet(192.168.123.22,23): IAC WILL 3\n",
      "Telnet(192.168.123.22,23): IAC DO 24\n",
      "Telnet(192.168.123.22,23): IAC DO 31\n",
      "Telnet(192.168.123.22,23): recv b'me: '\n",
      "Telnet(192.168.123.22,23): send b'cisco\\n'\n",
      "Telnet(192.168.123.22,23): recv b'\\xff\\xfc\\x01'\n",
      "Telnet(192.168.123.22,23): IAC WONT 1\n",
      "Telnet(192.168.123.22,23): recv b'\\xff\\xfc\\x03'\n",
      "Telnet(192.168.123.22,23): IAC WONT 3\n",
      "Telnet(192.168.123.22,23): recv b'\\xff\\xfe\\x18\\xff\\xfe\\x1f'\n",
      "Telnet(192.168.123.22,23): IAC DONT 24\n",
      "Telnet(192.168.123.22,23): IAC DONT 31\n",
      "Telnet(192.168.123.22,23): recv b'c'\n",
      "Telnet(192.168.123.22,23): recv b'is'\n",
      "Telnet(192.168.123.22,23): recv b'c'\n",
      "Telnet(192.168.123.22,23): recv b'o'\n",
      "Telnet(192.168.123.22,23): recv b'\\r\\nPassword: '\n",
      "Telnet(192.168.123.22,23): send b'cisco\\n'\n",
      "Telnet(192.168.123.22,23): recv b'\\r\\nRouter#'\n",
      "Telnet(192.168.123.22,23): send b'ter len 0\\n'\n",
      "Telnet(192.168.123.22,23): recv b't'\n",
      "Telnet(192.168.123.22,23): recv b'e'\n",
      "Telnet(192.168.123.22,23): recv b'r'\n",
      "Telnet(192.168.123.22,23): recv b' '\n",
      "Telnet(192.168.123.22,23): recv b'l'\n",
      "Telnet(192.168.123.22,23): recv b'e'\n",
      "Telnet(192.168.123.22,23): recv b'n'\n",
      "Telnet(192.168.123.22,23): recv b' '\n",
      "Telnet(192.168.123.22,23): recv b'0'\n",
      "Telnet(192.168.123.22,23): recv b'\\r\\nRouter#'\n",
      "Telnet(192.168.123.22,23): send b'show version\\n'\n",
      "Telnet(192.168.123.22,23): recv b's'\n",
      "Telnet(192.168.123.22,23): recv b'h'\n",
      "Telnet(192.168.123.22,23): recv b'o'\n",
      "Telnet(192.168.123.22,23): recv b'w'\n",
      "Telnet(192.168.123.22,23): recv b' '\n",
      "Telnet(192.168.123.22,23): recv b'v'\n",
      "Telnet(192.168.123.22,23): recv b'e'\n",
      "Telnet(192.168.123.22,23): recv b'r'\n",
      "Telnet(192.168.123.22,23): recv b's'\n",
      "Telnet(192.168.123.22,23): recv b'i'\n",
      "Telnet(192.168.123.22,23): recv b'o'\n",
      "Telnet(192.168.123.22,23): recv b'n'\n",
      "Telnet(192.168.123.22,23): recv b'\\r\\nCisco IOS Software, Linux Software (I86BI_LINUX-'\n",
      "Telnet(192.168.123.22,23): recv b'ADVENTERPRISEK9-M), Version 15.4(2)T4, DEVELOPMENT'\n",
      "Telnet(192.168.123.22,23): recv b' TEST SOFTWARE\\r\\nTechnical Support: http://www.cisc'\n",
      "Telnet(192.168.123.22,23): recv b'o.com/techsupport\\r\\nCopyright (c) 1986-2015 by Cisc'\n",
      "Telnet(192.168.123.22,23): recv b'o Systems, Inc.\\r\\nCompiled Thu 08-Oct-15 21:21 by p'\n",
      "Telnet(192.168.123.22,23): recv b'rod_rel_team\\r\\n\\r\\nROM: Bootstrap program is Linux\\r\\n\\r'\n",
      "Telnet(192.168.123.22,23): recv b'\\nRouter uptime is 16 minutes\\r\\nSystem returned to R'\n",
      "Telnet(192.168.123.22,23): recv b'OM by reload at 0\\r\\nSystem image file is \"unix:/opt'\n",
      "Telnet(192.168.123.22,23): recv b'/unetlab/addons/iol/bin/i86bi_linux-adventerprisek'\n",
      "Telnet(192.168.123.22,23): recv b'9-ms.154-\"\\r\\nLast reload reason: Unknown reason\\r\\n\\r\\n'\n",
      "Telnet(192.168.123.22,23): recv b'\\r\\n\\r\\nThis product contains cryptographic features a'\n",
      "Telnet(192.168.123.22,23): recv b'nd is subject to United\\r\\nStates and local country '\n",
      "Telnet(192.168.123.22,23): recv b'laws governing import, export, transfer and\\r\\nuse. '\n",
      "Telnet(192.168.123.22,23): recv b'Delivery of Cisco cryptographic products does not '\n",
      "Telnet(192.168.123.22,23): recv b'imply\\r\\nthird-party authority to import, export, di'\n",
      "Telnet(192.168.123.22,23): recv b'stribute or use encryption.\\r\\nImporters, exporters,'\n",
      "Telnet(192.168.123.22,23): recv b' distributors and users are responsible for\\r\\ncompl'\n",
      "Telnet(192.168.123.22,23): recv b'iance with U.S. and local country laws. By using t'\n",
      "Telnet(192.168.123.22,23): recv b'his product you\\r\\nagree to comply with applicable l'\n",
      "Telnet(192.168.123.22,23): recv b'aws and regulations. If you are unable\\r\\nto comply '\n",
      "Telnet(192.168.123.22,23): recv b'with U.S. and local laws, return this product imme'\n",
      "Telnet(192.168.123.22,23): recv b'diately.\\r\\n\\r\\nA summary of U.S. laws governing Cisco'\n",
      "Telnet(192.168.123.22,23): recv b' cryptographic products may be found at:\\r\\nhttp://w'\n",
      "Telnet(192.168.123.22,23): recv b'ww.cisco.com/wwl/export/crypto/tool/stqrg.html\\r\\n\\r\\n'\n",
      "Telnet(192.168.123.22,23): recv b'If you require further assistance please contact u'\n",
      "Telnet(192.168.123.22,23): recv b's by sending email to\\r\\nexport@cisco.com.\\r\\n\\r\\nLinux '\n",
      "Telnet(192.168.123.22,23): recv b'Unix (Intel-x86) processor with 884857K bytes of m'\n",
      "Telnet(192.168.123.22,23): recv b'emory.\\r\\nProcessor board ID 67108896\\r\\n4 Ethernet in'\n",
      "Telnet(192.168.123.22,23): recv b'terfaces\\r\\n1024K bytes of NVRAM.\\r\\n\\r\\n\\r\\n\\r\\nConfigurati'\n",
      "Telnet(192.168.123.22,23): recv b'on register is 0x0\\r\\n\\r\\nRouter#'\n"
     ]
    }
   ],
   "source": [
    "if __name__ == \"__main__\":\n",
    "    hostname=\"192.168.123.22\"\n",
    "    username=\"cisco\"\n",
    "    password=\"cisco\"\n",
    "    \n",
    "    t = login(hostname,username,password)\n",
    "    t.read_until(\"Router#\".encode('utf-8'))\n",
    "    t.write(\"ter len 0\".encode('utf-8') + \"\\n\".encode('utf-8'))\n",
    "    t.read_until(\"Router#\".encode('utf-8'))\n",
    "    t.write(\"show version\" .encode('utf-8')+ \"\\n\".encode('utf-8'))\n",
    "    t.read_until(\"Router#\".encode('utf-8'))\n",
    "    t.close()"
   ]
  }
 ],
 "metadata": {
  "kernelspec": {
   "display_name": "Python 3",
   "language": "python",
   "name": "python3"
  },
  "language_info": {
   "codemirror_mode": {
    "name": "ipython",
    "version": 3
   },
   "file_extension": ".py",
   "mimetype": "text/x-python",
   "name": "python",
   "nbconvert_exporter": "python",
   "pygments_lexer": "ipython3",
   "version": "3.6.3"
  }
 },
 "nbformat": 4,
 "nbformat_minor": 2
}
