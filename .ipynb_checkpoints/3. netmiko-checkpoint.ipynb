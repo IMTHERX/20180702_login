{
 "cells": [
  {
   "cell_type": "markdown",
   "metadata": {},
   "source": [
    "netmiko基于paramiko开发，专门处理网络设备的ssh模块，这个模块支持很多厂商设备的ssh连接。"
   ]
  },
  {
   "cell_type": "code",
   "execution_count": 7,
   "metadata": {
    "collapsed": true
   },
   "outputs": [],
   "source": [
    "# coding:utf-8\n",
    "import sys\n",
    "import getopt,getpass\n",
    "from netmiko import ConnectHandler"
   ]
  },
  {
   "cell_type": "code",
   "execution_count": 6,
   "metadata": {
    "collapsed": true
   },
   "outputs": [],
   "source": [
    "def usage():\n",
    "    print(\"Usage:%s [options]\" %sys.argv[0])\n",
    "    print(\"-H    :Hostname\")\n",
    "    print(\"-u    :Username\")\n",
    "    print(\"-p    :Port Defaulr is 22\")\n",
    "    print(\"-h    :Help information\")\n"
   ]
  },
  {
   "cell_type": "code",
   "execution_count": 5,
   "metadata": {
    "collapsed": true
   },
   "outputs": [],
   "source": [
    "def handler_opt():\n",
    "    cisco_ios={\n",
    "        'device_type':'cisco_ios',\n",
    "        'port':22\n",
    "    }\n",
    "    \n",
    "    try:\n",
    "        opts,args = getopt.getopt(sys.argv[1:],\"H:p:u:h\",[\"hostname\",\"port\",\"username\",\"help\"])\n",
    "        \n",
    "        if len(sys.argv)==1:\n",
    "            usage()\n",
    "            sys.exit(1)\n",
    "        port=0\n",
    "        for opt,arg in opts:\n",
    "            if opt in (\"-h\",\"--help\"):\n",
    "                usage()\n",
    "                sys.exit(1)\n",
    "            elif opt in(\"-H\",\"--hostname\"):\n",
    "                cisco_ios[\"ip\"]=arg\n",
    "            elif opt in(\"-u\",\"--username\"):\n",
    "                cisco_ios[\"username\"]=arg\n",
    "            elif opt in(\"-p\",\"--port\"):\n",
    "                cisco_ios[\"port\"]=int(arg)\n",
    "    except getopt.GetoptError:\n",
    "        usage()\n",
    "        sys.exit(1)\n",
    "    return cisco_ios"
   ]
  },
  {
   "cell_type": "code",
   "execution_count": null,
   "metadata": {
    "scrolled": true
   },
   "outputs": [],
   "source": [
    "if __name__=='__main__':\n",
    "    device=handler_opt()\n",
    "    device[\"password\"]=getpass.getpass()\n",
    "    net_connect = ConnectHandler(**device)\n",
    "    stdout = net_connect.send_command(\"show ip int brief\")\n",
    "    print(stdout)\n",
    "    \n",
    "    config_commands = [\"int lo 0\",\"ip add 3.3.3.3 255.255.255.255\"]\n",
    "    stdout = net_connect.send_config_set(config_commands)\n",
    "    print(stdout)\n",
    "    \n",
    "    net_connect.exit_config_mode()\n",
    "    stdout = net_connect.send_command(\"show ip int brief\")\n",
    "    print(stdout)\n",
    "    \n",
    "    net_connect.disconnect()  "
   ]
  },
  {
   "cell_type": "markdown",
   "metadata": {
    "collapsed": true
   },
   "source": [
    "(C:\\Users\\13610\\Anaconda3) O:\\>python \"3.+netmiko.py\" -H 192.168.123.22 -u cisco\n",
    "Password:\n",
    "Interface                  IP-Address      OK? Method Status                Protocol\n",
    "Ethernet0/0                192.168.123.22  YES NVRAM  up                    up\n",
    "Ethernet0/1                1.1.1.2         YES NVRAM  up                    up\n",
    "Ethernet0/2                unassigned      YES NVRAM  administratively down down\n",
    "Ethernet0/3                unassigned      YES NVRAM  administratively down down\n",
    "Loopback0                  2.2.2.2         YES NVRAM  administratively down down\n",
    "config term\n",
    "Enter configuration commands, one per line.  End with CNTL/Z.\n",
    "Router(config)#int lo 0\n",
    "Router(config-if)#ip add 3.3.3.3 255.255.255.255\n",
    "Router(config-if)#end\n",
    "Router#\n",
    "Interface                  IP-Address      OK? Method Status                Protocol\n",
    "Ethernet0/0                192.168.123.22  YES NVRAM  up                    up\n",
    "Ethernet0/1                1.1.1.2         YES NVRAM  up                    up\n",
    "Ethernet0/2                unassigned      YES NVRAM  administratively down down\n",
    "Ethernet0/3                unassigned      YES NVRAM  administratively down down\n",
    "Loopback0                  3.3.3.3         YES manual administratively down down\n"
   ]
  }
 ],
 "metadata": {
  "kernelspec": {
   "display_name": "Python 3",
   "language": "python",
   "name": "python3"
  },
  "language_info": {
   "codemirror_mode": {
    "name": "ipython",
    "version": 3
   },
   "file_extension": ".py",
   "mimetype": "text/x-python",
   "name": "python",
   "nbconvert_exporter": "python",
   "pygments_lexer": "ipython3",
   "version": "3.6.3"
  }
 },
 "nbformat": 4,
 "nbformat_minor": 2
}
